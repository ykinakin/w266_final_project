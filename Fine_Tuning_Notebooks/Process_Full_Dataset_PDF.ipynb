{
 "cells": [
  {
   "cell_type": "code",
   "execution_count": 44,
   "metadata": {},
   "outputs": [],
   "source": [
    "import os\n",
    "import re\n",
    "import pathlib\n",
    "import pandas as pd\n",
    "import pickle\n",
    "\n",
    "from tqdm import tqdm\n",
    "from pypdf import PdfReader\n",
    "\n",
    "from datetime import datetime, timedelta"
   ]
  },
  {
   "cell_type": "markdown",
   "metadata": {},
   "source": [
    "## extract_using_pdfminer() working and non-working examples"
   ]
  },
  {
   "cell_type": "code",
   "execution_count": 40,
   "metadata": {
    "scrolled": true
   },
   "outputs": [],
   "source": [
    "p = \"/home/ykinakin/Python/berkeley/geoscience_language_models/project_tools/data/01_raw/PDFs/\"\n",
    "output_txt = \"/home/ykinakin/Python/berkeley/geoscience_language_models/project_tools/data/02_intermediate\""
   ]
  },
  {
   "cell_type": "markdown",
   "metadata": {},
   "source": [
    "## Unprocessed pdfs"
   ]
  },
  {
   "cell_type": "code",
   "execution_count": 21,
   "metadata": {},
   "outputs": [],
   "source": [
    "def get_pdf_ids(path, pattern):\n",
    "    pdfs = []\n",
    "    for (dirpath, dirnames, filenames) in os.walk(path):\n",
    "        for filename in filenames:\n",
    "            if filename.endswith(pattern):\n",
    "                pdfs.append(filename.replace(pattern, \"\"))\n",
    "    return pdfs"
   ]
  },
  {
   "cell_type": "code",
   "execution_count": 22,
   "metadata": {},
   "outputs": [],
   "source": [
    "pdfs = get_pdf_ids(\"/home/ykinakin/Python/berkeley/geoscience_language_models/project_tools/data/01_raw/PDFs\", \".pdf\")"
   ]
  },
  {
   "cell_type": "markdown",
   "metadata": {},
   "source": [
    "## Processed pdfs"
   ]
  },
  {
   "cell_type": "code",
   "execution_count": 51,
   "metadata": {},
   "outputs": [
    {
     "name": "stderr",
     "output_type": "stream",
     "text": [
      "  3%|██                                                                                 | 104/4076 [14:50<52:06:28, 47.23s/it]incorrect startxref pointer(3)\n",
      " 15%|████████████▉                                                                       | 630/4076 [45:37<2:10:54,  2.28s/it]incorrect startxref pointer(3)\n",
      " 51%|█████████████████████████████████████████▌                                       | 2093/4076 [2:06:34<2:14:15,  4.06s/it]incorrect startxref pointer(3)\n",
      " 61%|██████████████████████████████████████████████████▋                                | 2491/4076 [2:36:00<38:09,  1.44s/it]incorrect startxref pointer(3)\n",
      " 64%|███████████████████████████████████████████████████▋                             | 2598/4076 [2:40:35<1:05:57,  2.68s/it]incorrect startxref pointer(3)\n",
      " 66%|██████████████████████████████████████████████████████▎                            | 2670/4076 [2:42:29<31:30,  1.34s/it]incorrect startxref pointer(3)\n",
      " 97%|████████████████████████████████████████████████████████████████████████████████▊  | 3969/4076 [4:11:12<02:18,  1.29s/it]incorrect startxref pointer(3)\n",
      "100%|███████████████████████████████████████████████████████████████████████████████████| 4076/4076 [4:15:22<00:00,  3.76s/it]\n"
     ]
    }
   ],
   "source": [
    "full_text = []\n",
    "\n",
    "for filename in tqdm(pdfs):\n",
    "    full_path = p + filename + \".pdf\"\n",
    "    try:\n",
    "        reader = PdfReader(full_path)\n",
    "        text = \"\"\n",
    "        for page in reader.pages:\n",
    "            try:\n",
    "                text += page.extract_text() + \"\\n\" \n",
    "            except: \n",
    "                text = \"\"\n",
    "        full_text.append(text)\n",
    "    except:\n",
    "        pass\n",
    "        \n",
    "with open(\"/home/ykinakin/Python/berkeley/geoscience_language_models/project_tools/data/02_intermediate/convert.pkl\", 'wb') as f:\n",
    "    pickle.dump(full_text, f)"
   ]
  },
  {
   "cell_type": "code",
   "execution_count": 52,
   "metadata": {},
   "outputs": [],
   "source": [
    "with open(\"/home/ykinakin/Python/berkeley/geoscience_language_models/project_tools/data/02_intermediate/convert.pkl\", 'wb') as f:\n",
    "    pickle.dump(full_text, f)"
   ]
  }
 ],
 "metadata": {
  "kernelspec": {
   "display_name": "Python 3 (ipykernel)",
   "language": "python",
   "name": "python3"
  },
  "language_info": {
   "codemirror_mode": {
    "name": "ipython",
    "version": 3
   },
   "file_extension": ".py",
   "mimetype": "text/x-python",
   "name": "python",
   "nbconvert_exporter": "python",
   "pygments_lexer": "ipython3",
   "version": "3.10.9"
  }
 },
 "nbformat": 4,
 "nbformat_minor": 4
}
