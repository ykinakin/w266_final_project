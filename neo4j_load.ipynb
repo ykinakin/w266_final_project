{
 "cells": [
  {
   "cell_type": "code",
   "execution_count": 1,
   "id": "86062da9-c457-4493-ac3c-6413fda0c665",
   "metadata": {},
   "outputs": [],
   "source": [
    "import json\n",
    "import matplotlib.pyplot as plt\n",
    "import numpy as np\n",
    "import pandas as pd\n",
    "\n",
    "from neo4j import GraphDatabase\n",
    "from scipy import linalg\n",
    "from scipy.spatial.distance import cosine\n",
    "from sklearn.metrics.pairwise import euclidean_distances\n",
    "from sklearn.preprocessing import StandardScaler"
   ]
  },
  {
   "cell_type": "code",
   "execution_count": 2,
   "id": "fb67b9ec-145b-4476-a652-14fb8759cd9c",
   "metadata": {},
   "outputs": [],
   "source": [
    "myfilename = \"word_pairs.txt\"\n",
    "\n",
    "with open(myfilename) as f:\n",
    "    df = json.load(f)"
   ]
  },
  {
   "cell_type": "markdown",
   "id": "5da011e5-1e2e-450f-9d73-9234d47c21b7",
   "metadata": {},
   "source": [
    "Create unique node list for graph."
   ]
  },
  {
   "cell_type": "code",
   "execution_count": 8,
   "id": "110bdf37-e67a-4c0a-a9f4-3acd0ff1bb22",
   "metadata": {},
   "outputs": [],
   "source": [
    "word_pairs = set([item for sublist in [item[0] for item in df] for item in sublist])"
   ]
  },
  {
   "cell_type": "markdown",
   "id": "d8b1d34d-ddd4-4760-8714-0c16a2a2c900",
   "metadata": {},
   "source": [
    "Generate a list of all the nodes."
   ]
  },
  {
   "cell_type": "code",
   "execution_count": 9,
   "id": "a01195a4-240d-4025-86d4-8d09af501fc2",
   "metadata": {},
   "outputs": [
    {
     "name": "stdout",
     "output_type": "stream",
     "text": [
      "Total number of nodes: 801\n"
     ]
    }
   ],
   "source": [
    "nodes = []\n",
    "for item in word_pairs:\n",
    "    nodes.append({\"Word\": item})\n",
    "print(\"Total number of nodes:\", len(nodes))"
   ]
  },
  {
   "cell_type": "markdown",
   "id": "4f2f68d7-0127-423e-800d-4fb3111d61bf",
   "metadata": {},
   "source": [
    "Generate a list of all the relationships between nodes with probability as weight."
   ]
  },
  {
   "cell_type": "code",
   "execution_count": 11,
   "id": "228f8636-11b2-4473-a0f4-cdac83fd7580",
   "metadata": {},
   "outputs": [
    {
     "name": "stdout",
     "output_type": "stream",
     "text": [
      "Total number of relationships: 1000\n"
     ]
    }
   ],
   "source": [
    "relationships = []\n",
    "for item in df:\n",
    "    relationships.append({\"from\":item[0][0],\"to\":item[0][1], \"properties\":{\"probability\":item[1]}})\n",
    "            \n",
    "print(\"Total number of relationships:\", len(relationships))"
   ]
  },
  {
   "cell_type": "markdown",
   "id": "c410d6fe-b4ef-4d1c-ac47-3a0628bbb233",
   "metadata": {},
   "source": [
    "Connect to neo4j database."
   ]
  },
  {
   "cell_type": "code",
   "execution_count": 12,
   "id": "66a12724-4909-4f92-851b-f1e12087f7e6",
   "metadata": {},
   "outputs": [
    {
     "data": {
      "text/plain": [
       "<bound method BoltDriver.open of <class 'neo4j._sync.driver.BoltDriver'>>"
      ]
     },
     "execution_count": 12,
     "metadata": {},
     "output_type": "execute_result"
    }
   ],
   "source": [
    "url = \"bolt://localhost:7687\"\n",
    "username = \"neo4j\"\n",
    "password = \"scribbles\"\n",
    "\n",
    "# Connect to the neo4j database server\n",
    "graphDB_Driver  = GraphDatabase.driver(url, auth=(username, password))\n",
    "graphDB_Driver.open"
   ]
  },
  {
   "cell_type": "markdown",
   "id": "c79b8667-f2f7-4824-98aa-ac3948efcfb3",
   "metadata": {},
   "source": [
    "Run the query to create all nodes in neo4j."
   ]
  },
  {
   "cell_type": "code",
   "execution_count": 13,
   "id": "e922b69d-7b83-41af-bb24-d2d537273bf2",
   "metadata": {},
   "outputs": [
    {
     "data": {
      "text/plain": [
       "<neo4j._sync.work.result.Result at 0x1b523788c70>"
      ]
     },
     "execution_count": 13,
     "metadata": {},
     "output_type": "execute_result"
    }
   ],
   "source": [
    "graphDB_Driver.session().run(\n",
    "    query = 'UNWIND $props AS map CREATE (n:Word) SET n = map',\n",
    "    parameters = {'props': nodes}\n",
    ")"
   ]
  },
  {
   "cell_type": "markdown",
   "id": "a9de91dd-2f83-4558-9dfb-ac4ffec0a915",
   "metadata": {},
   "source": [
    "Run the query to create all relationships in neo4j."
   ]
  },
  {
   "cell_type": "code",
   "execution_count": 14,
   "id": "726be541-acef-4fb0-b9c3-7b7bb288f063",
   "metadata": {},
   "outputs": [
    {
     "data": {
      "text/plain": [
       "<neo4j._sync.work.result.Result at 0x1b5239e1310>"
      ]
     },
     "execution_count": 14,
     "metadata": {},
     "output_type": "execute_result"
    }
   ],
   "source": [
    "graphDB_Driver.session().run(\n",
    "    query = 'UNWIND $batch as row \\\n",
    "    MATCH (from:Word {Word: row.from}) \\\n",
    "    MATCH (to:Word {Word: row.to}) \\\n",
    "    CREATE (from)-[rel:KNOWS]->(to) \\\n",
    "    SET rel += row.properties', \n",
    "    parameters = {'batch': relationships}\n",
    ")"
   ]
  },
  {
   "cell_type": "markdown",
   "id": "7bf6e302-7550-4c99-96c7-958949d02969",
   "metadata": {},
   "source": [
    "Delete all nodes and relationships."
   ]
  },
  {
   "cell_type": "code",
   "execution_count": 15,
   "id": "26ff28e8-9687-464a-9677-e274c50fc883",
   "metadata": {},
   "outputs": [
    {
     "data": {
      "text/plain": [
       "<neo4j._sync.work.result.Result at 0x1b5239f81c0>"
      ]
     },
     "execution_count": 15,
     "metadata": {},
     "output_type": "execute_result"
    }
   ],
   "source": [
    "graphDB_Driver.session().run(\n",
    "    query = 'match (n) detach delete n', \n",
    "    parameters = {'batch': relationships}\n",
    ")"
   ]
  },
  {
   "cell_type": "code",
   "execution_count": null,
   "id": "2795e6e2-4580-406c-96fb-33a646ecc24d",
   "metadata": {},
   "outputs": [],
   "source": []
  }
 ],
 "metadata": {
  "kernelspec": {
   "display_name": "Python 3 (ipykernel)",
   "language": "python",
   "name": "python3"
  },
  "language_info": {
   "codemirror_mode": {
    "name": "ipython",
    "version": 3
   },
   "file_extension": ".py",
   "mimetype": "text/x-python",
   "name": "python",
   "nbconvert_exporter": "python",
   "pygments_lexer": "ipython3",
   "version": "3.9.7"
  }
 },
 "nbformat": 4,
 "nbformat_minor": 5
}
