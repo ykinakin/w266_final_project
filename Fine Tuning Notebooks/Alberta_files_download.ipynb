{
 "cells": [
  {
   "cell_type": "markdown",
   "metadata": {},
   "source": [
    "# Alberta Reports\n",
    "All reports from alberta"
   ]
  },
  {
   "cell_type": "code",
   "execution_count": 56,
   "metadata": {},
   "outputs": [],
   "source": [
    "import pandas as pd\n",
    "import numpy as np\n",
    "from os import listdir,environ,rename \n",
    "from sys import argv\n",
    "from os.path import isfile,join,basename\n",
    "from shutil import rmtree,move\n",
    "import glob\n",
    "from bs4 import BeautifulSoup\n",
    "import os\n",
    "from zipfile import ZipFile\n",
    "import requests\n",
    "from requests_html import HTMLSession,AsyncHTMLSession\n",
    "import json\n",
    "import urllib3"
   ]
  },
  {
   "cell_type": "code",
   "execution_count": 57,
   "metadata": {},
   "outputs": [],
   "source": [
    "root_dir = os.path.abspath(os.curdir)\n",
    "data_dir = join(root_dir,\"data\")\n",
    "alberta_root_dir=join(data_dir,\"01_raw\",\"20210108\",\"alberta\")\n",
    "reports_dir=join(alberta_root_dir,\"reports\")\n",
    "urllib3.disable_warnings(urllib3.exceptions.InsecureRequestWarning) #Ignore the insercure warning smap."
   ]
  },
  {
   "cell_type": "code",
   "execution_count": 58,
   "metadata": {},
   "outputs": [],
   "source": [
    "MAKE_DIRS=False\n",
    "GET_LINKS=False\n",
    "DOWNLOAD = True\n",
    "if MAKE_DIRS:\n",
    "    os.makedirs(reports_dir)"
   ]
  },
  {
   "cell_type": "code",
   "execution_count": 59,
   "metadata": {},
   "outputs": [],
   "source": [
    "def fxn():\n",
    "    warnings.warn(\"https\", InsecureRequestWarning)\n",
    "\n",
    "def get_parsed_content(url):\n",
    "    html_content = requests.get(url, verify=False).text\n",
    "    soup = BeautifulSoup(html_content, \"html.parser\")\n",
    "    return soup\n",
    "\n",
    "def download_articles(article_links,http_root,destination_dir,max_length=100):\n",
    "    for article_link in article_links:\n",
    "        r = requests.get(article_link,stream=True, verify=False)\n",
    "        chunk_size=10000000\n",
    "        article_name = article_link.replace(http_root,\"\").replace(\"/\",\"_\")\n",
    "        article_name = article_name[-1*max_length:]\n",
    "        f = open(join(destination_dir,article_name),\"wb+\")\n",
    "        for chunk in r.iter_content(chunk_size):\n",
    "            #print(\"I\\'m writing\", chunk[0:10], \"to\", join(destination_dir,article_name))\n",
    "            f.write(chunk)\n",
    "        f.close()\n",
    "                \n",
    "def download_all_pdf(pdf_http_root, page_http_link, destination_dir):\n",
    "    article_links= []\n",
    "    for i in range(0,55):\n",
    "        content=get_parsed_content(f'{page_http_link}{i}')\n",
    "        for link in content.find_all('a', href=True):\n",
    "            if \".pdf\" in (href := link['href']):\n",
    "                try:\n",
    "                    download_articles([link['href']],pdf_http_root, destination_dir)\n",
    "                except ValueError:\n",
    "                    pass\n",
    "        \n",
    "    \n",
    "def get_files_count(directory,print_caption=None):\n",
    "    nb_files = len([name for name in os.listdir(directory) if os.path.isfile(directory +\"/\"+name)])\n",
    "    if print_caption:\n",
    "        print (f'{print_caption}: {nb_files}')\n",
    "    return nb_files"
   ]
  },
  {
   "cell_type": "code",
   "execution_count": 60,
   "metadata": {},
   "outputs": [],
   "source": [
    "download_all_pdf(\"https://static.ags.aer.ca/files/\",\"https://ags.aer.ca/reports/reports?title=&publication_type=All&sort_by=created&sort_order=DESC&page=\",alberta_root_dir)"
   ]
  },
  {
   "cell_type": "code",
   "execution_count": 61,
   "metadata": {},
   "outputs": [
    {
     "name": "stdout",
     "output_type": "stream",
     "text": [
      "/home/ykinakin/Python/berkeley/geoscience_language_models/project_tools/data/01_raw/20201221/data/01_raw/20210108/alberta: 513\n"
     ]
    },
    {
     "data": {
      "text/plain": [
       "513"
      ]
     },
     "execution_count": 61,
     "metadata": {},
     "output_type": "execute_result"
    }
   ],
   "source": [
    "get_files_count(alberta_root_dir,alberta_root_dir)"
   ]
  },
  {
   "cell_type": "code",
   "execution_count": null,
   "metadata": {},
   "outputs": [],
   "source": []
  }
 ],
 "metadata": {
  "kernelspec": {
   "display_name": "Python 3 (ipykernel)",
   "language": "python",
   "name": "python3"
  },
  "language_info": {
   "codemirror_mode": {
    "name": "ipython",
    "version": 3
   },
   "file_extension": ".py",
   "mimetype": "text/x-python",
   "name": "python",
   "nbconvert_exporter": "python",
   "pygments_lexer": "ipython3",
   "version": "3.10.9"
  }
 },
 "nbformat": 4,
 "nbformat_minor": 4
}
